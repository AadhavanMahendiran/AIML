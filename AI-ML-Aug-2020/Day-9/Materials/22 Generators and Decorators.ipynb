{
 "cells": [
  {
   "cell_type": "markdown",
   "metadata": {},
   "source": [
    "Generators in Python\n",
    "--\n",
    "\n",
    "Generators are functions that return traversable objects.\n",
    "\n",
    "They produce items one at a time and only when required.\n",
    "\n",
    "__Generators are run along with for loop.__\n",
    "\n",
    "__Advantages:__\n",
    "\n",
    "1. Easy to implement\n",
    "\n",
    "2. Better Memory Management and Utilization.\n",
    "\n",
    "3. Can be used to produce infinite terms.\n",
    "\n",
    "4. Can be used to pipeline a number of operations."
   ]
  },
  {
   "cell_type": "markdown",
   "metadata": {},
   "source": [
    "__Normal Functions vs Generators:__\n",
    "\n",
    "1.\n",
    "Generator Functions: Make use of 'yield' function.\n",
    "Normal Functions: Make use of 'return' keyword.\n",
    "\n",
    "2.\n",
    "Generator Functions: Run when next() method is called.\n",
    "Normal Functions: Run when name of the method is called.\n",
    "\n",
    "3.\n",
    "Generator Functions: Produce items one at a time and only when required.\n",
    "Normal Functions: Produce all items at once."
   ]
  },
  {
   "cell_type": "markdown",
   "metadata": {},
   "source": [
    "There are two terms involved when we discuss generators.\n",
    "\n",
    ">__1. Generator-Function:__ A generator-function is defined like a normal function, but whenever it needs to generate a value, it does so with the yield keyword rather than return. If the body of a def contains yield, the function automatically becomes a generator function.\n",
    "\n",
    ">__2.Generator-Object:__ Generator functions return a generator object. Generator objects are used either by calling the next method on the generator object or using the generator object in a “for in” loop "
   ]
  },
  {
   "cell_type": "code",
   "execution_count": 3,
   "metadata": {},
   "outputs": [
    {
     "name": "stdout",
     "output_type": "stream",
     "text": [
      "Hi\n",
      "Hi\n",
      "Hi\n",
      "Hi\n"
     ]
    }
   ],
   "source": [
    "def abc():\n",
    "    return \"Hi\"\n",
    "\n",
    "for i in range(4):\n",
    "    print(abc())"
   ]
  },
  {
   "cell_type": "code",
   "execution_count": 4,
   "metadata": {},
   "outputs": [
    {
     "name": "stdout",
     "output_type": "stream",
     "text": [
      "1\n",
      "2\n",
      "3\n"
     ]
    }
   ],
   "source": [
    "# Generator-Function\n",
    "def abc(): \n",
    "    yield 1            \n",
    "    yield 2            \n",
    "    yield 3            \n",
    "for i in abc():\n",
    "    print(i)"
   ]
  },
  {
   "cell_type": "code",
   "execution_count": 1,
   "metadata": {},
   "outputs": [
    {
     "name": "stdout",
     "output_type": "stream",
     "text": [
      "1\n"
     ]
    }
   ],
   "source": [
    "# Generator-Object\n",
    "def abc(): \n",
    "    yield 1\n",
    "    yield 2\n",
    "    yield 3\n",
    "   \n",
    "# x is a generator object \n",
    "x = abc() \n",
    "  \n",
    "# Iterating over the generator object using next \n",
    "print(x.__next__()) "
   ]
  },
  {
   "cell_type": "code",
   "execution_count": 2,
   "metadata": {},
   "outputs": [
    {
     "name": "stdout",
     "output_type": "stream",
     "text": [
      "2\n"
     ]
    }
   ],
   "source": [
    "print(x.__next__())"
   ]
  },
  {
   "cell_type": "code",
   "execution_count": 3,
   "metadata": {},
   "outputs": [
    {
     "name": "stdout",
     "output_type": "stream",
     "text": [
      "3\n"
     ]
    }
   ],
   "source": [
    "print(x.__next__())"
   ]
  },
  {
   "cell_type": "code",
   "execution_count": 4,
   "metadata": {},
   "outputs": [
    {
     "ename": "StopIteration",
     "evalue": "",
     "output_type": "error",
     "traceback": [
      "\u001b[1;31m---------------------------------------------------------------------------\u001b[0m",
      "\u001b[1;31mStopIteration\u001b[0m                             Traceback (most recent call last)",
      "\u001b[1;32m<ipython-input-4-c15fe6e1370e>\u001b[0m in \u001b[0;36m<module>\u001b[1;34m\u001b[0m\n\u001b[1;32m----> 1\u001b[1;33m \u001b[0mprint\u001b[0m\u001b[1;33m(\u001b[0m\u001b[0mx\u001b[0m\u001b[1;33m.\u001b[0m\u001b[0m__next__\u001b[0m\u001b[1;33m(\u001b[0m\u001b[1;33m)\u001b[0m\u001b[1;33m)\u001b[0m\u001b[1;33m\u001b[0m\u001b[1;33m\u001b[0m\u001b[0m\n\u001b[0m",
      "\u001b[1;31mStopIteration\u001b[0m: "
     ]
    }
   ],
   "source": [
    "print(x.__next__())"
   ]
  },
  {
   "cell_type": "raw",
   "metadata": {},
   "source": [
    "So a generator function returns an generator object that is iterable, i.e., can be used as an Iterators "
   ]
  },
  {
   "cell_type": "code",
   "execution_count": 5,
   "metadata": {},
   "outputs": [
    {
     "name": "stdout",
     "output_type": "stream",
     "text": [
      "<generator object xyz at 0x05EEF430>\n"
     ]
    },
    {
     "data": {
      "text/plain": [
       "(1, 'Lets')"
      ]
     },
     "execution_count": 5,
     "metadata": {},
     "output_type": "execute_result"
    }
   ],
   "source": [
    "# Snippet 2:\n",
    "def xyz(d):\n",
    "    for x in d.items():\n",
    "        yield x\n",
    "dict = {1: \"Lets\", 2: \"Upgrade\"}\n",
    "b=xyz(dict)\n",
    "print(b)\n",
    "b.__next__()"
   ]
  },
  {
   "cell_type": "code",
   "execution_count": 6,
   "metadata": {},
   "outputs": [
    {
     "data": {
      "text/plain": [
       "(2, 'Upgrade')"
      ]
     },
     "execution_count": 6,
     "metadata": {},
     "output_type": "execute_result"
    }
   ],
   "source": [
    "b.__next__()"
   ]
  },
  {
   "cell_type": "code",
   "execution_count": 7,
   "metadata": {},
   "outputs": [
    {
     "ename": "StopIteration",
     "evalue": "",
     "output_type": "error",
     "traceback": [
      "\u001b[1;31m---------------------------------------------------------------------------\u001b[0m",
      "\u001b[1;31mStopIteration\u001b[0m                             Traceback (most recent call last)",
      "\u001b[1;32m<ipython-input-7-d27662ec52f3>\u001b[0m in \u001b[0;36m<module>\u001b[1;34m\u001b[0m\n\u001b[1;32m----> 1\u001b[1;33m \u001b[0mb\u001b[0m\u001b[1;33m.\u001b[0m\u001b[0m__next__\u001b[0m\u001b[1;33m(\u001b[0m\u001b[1;33m)\u001b[0m\u001b[1;33m\u001b[0m\u001b[1;33m\u001b[0m\u001b[0m\n\u001b[0m",
      "\u001b[1;31mStopIteration\u001b[0m: "
     ]
    }
   ],
   "source": [
    "b.__next__()"
   ]
  },
  {
   "cell_type": "code",
   "execution_count": 9,
   "metadata": {},
   "outputs": [
    {
     "name": "stdout",
     "output_type": "stream",
     "text": [
      "2\n"
     ]
    }
   ],
   "source": [
    "# Snippet 3:\n",
    "def mno(i):\n",
    "    while i<=3:\n",
    "        yield i\n",
    "        i=i+1\n",
    "j = mno(2)\n",
    "print(j.__next__()) # This will print one by one\n",
    "# for i in j:\n",
    "#     print(i)"
   ]
  },
  {
   "cell_type": "code",
   "execution_count": 10,
   "metadata": {},
   "outputs": [
    {
     "name": "stdout",
     "output_type": "stream",
     "text": [
      "3\n"
     ]
    }
   ],
   "source": [
    "print(j.__next__())"
   ]
  },
  {
   "cell_type": "code",
   "execution_count": 11,
   "metadata": {},
   "outputs": [
    {
     "ename": "StopIteration",
     "evalue": "",
     "output_type": "error",
     "traceback": [
      "\u001b[1;31m---------------------------------------------------------------------------\u001b[0m",
      "\u001b[1;31mStopIteration\u001b[0m                             Traceback (most recent call last)",
      "\u001b[1;32m<ipython-input-11-3a14de1ff5f3>\u001b[0m in \u001b[0;36m<module>\u001b[1;34m\u001b[0m\n\u001b[1;32m----> 1\u001b[1;33m \u001b[0mprint\u001b[0m\u001b[1;33m(\u001b[0m\u001b[0mj\u001b[0m\u001b[1;33m.\u001b[0m\u001b[0m__next__\u001b[0m\u001b[1;33m(\u001b[0m\u001b[1;33m)\u001b[0m\u001b[1;33m)\u001b[0m\u001b[1;33m\u001b[0m\u001b[1;33m\u001b[0m\u001b[0m\n\u001b[0m",
      "\u001b[1;31mStopIteration\u001b[0m: "
     ]
    }
   ],
   "source": [
    "print(j.__next__())"
   ]
  },
  {
   "cell_type": "code",
   "execution_count": 12,
   "metadata": {},
   "outputs": [
    {
     "name": "stdout",
     "output_type": "stream",
     "text": [
      "3\n",
      "9\n"
     ]
    }
   ],
   "source": [
    "# Snippet 4:\n",
    "def foo():\n",
    "    n=3\n",
    "    yield n\n",
    "    n=n*n\n",
    "    yield n\n",
    "v=foo()\n",
    "for i in v:\n",
    "    print(i)"
   ]
  },
  {
   "cell_type": "code",
   "execution_count": 22,
   "metadata": {},
   "outputs": [],
   "source": [
    "# Use Case 1: Generator for Fibonacci Numbers.\n",
    "def fib(limit):       \n",
    "    # Initialize first two Fibonacci Numbers  \n",
    "    a, b = 0, 1\n",
    "  \n",
    "    # One by one yield next Fibonacci Number \n",
    "    while a < limit: \n",
    "        yield a \n",
    "        a = b\n",
    "        b = a+b\n",
    "  \n",
    "# Create a generator object \n",
    "x = fib(20) "
   ]
  },
  {
   "cell_type": "code",
   "execution_count": 18,
   "metadata": {},
   "outputs": [
    {
     "name": "stdout",
     "output_type": "stream",
     "text": [
      "8\n"
     ]
    }
   ],
   "source": [
    "# Iterating over the generator object using next \n",
    "print(x.__next__()) "
   ]
  },
  {
   "cell_type": "code",
   "execution_count": 23,
   "metadata": {},
   "outputs": [
    {
     "name": "stdout",
     "output_type": "stream",
     "text": [
      "\n",
      "Using for in loop\n",
      "0\n",
      "1\n",
      "2\n",
      "4\n",
      "8\n",
      "16\n"
     ]
    }
   ],
   "source": [
    "# Iterating over the generator object using for \n",
    "# in loop. \n",
    "print(\"\\nUsing for in loop\") \n",
    "for i in x:  \n",
    "    print(i)"
   ]
  },
  {
   "cell_type": "markdown",
   "metadata": {},
   "source": [
    "__Practical Processing:__\n",
    "\n",
    "1. It is used in handling large data files such as log files. \n",
    "\n",
    "\n",
    "2. Generators provide a space efficient method for such data processing as only parts of the file are handled at one given point in time. \n",
    "\n",
    "\n",
    "3. We can also use Iterators for these purposes, but Generator provides a quick way\n",
    "\n",
    "\n",
    "4. Represent Infinite Stream: Generators are excellent medium to represent an infinite stream of data. Infinite streams cannot be stored in memory and since generators produce only one item at a time, it can represent infinite stream of data."
   ]
  },
  {
   "cell_type": "markdown",
   "metadata": {},
   "source": [
    "Decorators in Python\n",
    "--"
   ]
  },
  {
   "cell_type": "markdown",
   "metadata": {},
   "source": [
    "### Namespaces"
   ]
  },
  {
   "cell_type": "code",
   "execution_count": 24,
   "metadata": {},
   "outputs": [
    {
     "name": "stdout",
     "output_type": "stream",
     "text": [
      "4\n"
     ]
    }
   ],
   "source": [
    "x=4\n",
    "print(x)"
   ]
  },
  {
   "cell_type": "code",
   "execution_count": 25,
   "metadata": {},
   "outputs": [
    {
     "name": "stdout",
     "output_type": "stream",
     "text": [
      "5\n"
     ]
    }
   ],
   "source": [
    "x=5\n",
    "print(x)"
   ]
  },
  {
   "cell_type": "raw",
   "metadata": {},
   "source": [
    "Old value 4 is lost. So lets try by giving two different names as below:"
   ]
  },
  {
   "cell_type": "code",
   "execution_count": 26,
   "metadata": {},
   "outputs": [
    {
     "name": "stdout",
     "output_type": "stream",
     "text": [
      "4 5\n"
     ]
    }
   ],
   "source": [
    "x=4\n",
    "y=5\n",
    "print(x,y)"
   ]
  },
  {
   "cell_type": "markdown",
   "metadata": {},
   "source": [
    "__So why do we require a Namespace then?__\n",
    "\n",
    "Thats because if your LOC is in thousand to lakhs, keeping a track of variables is very difficult. So it may happen you reuse the declared names. \n",
    "\n",
    "In this case, namespaces come into place and it will allow us to reuse the names.\n",
    "\n",
    "Four types of namespaces exist viz LEGB:\n",
    "\n",
    ">1. Local: It contains names defined inside current function.\n",
    "\n",
    ">2.Enclosed: It contains names defined inside any and all enclosed functions.\n",
    "\n",
    ">3. Global: It contains names defined at the top level of the script/module.\n",
    "\n",
    ">4.Built-in: It contains names built-in to the python language."
   ]
  },
  {
   "cell_type": "code",
   "execution_count": 27,
   "metadata": {},
   "outputs": [
    {
     "name": "stdout",
     "output_type": "stream",
     "text": [
      "45\n"
     ]
    },
    {
     "ename": "NameError",
     "evalue": "name 'z' is not defined",
     "output_type": "error",
     "traceback": [
      "\u001b[1;31m---------------------------------------------------------------------------\u001b[0m",
      "\u001b[1;31mNameError\u001b[0m                                 Traceback (most recent call last)",
      "\u001b[1;32m<ipython-input-27-77f27c8bff48>\u001b[0m in \u001b[0;36m<module>\u001b[1;34m\u001b[0m\n\u001b[0;32m      4\u001b[0m     \u001b[0mprint\u001b[0m\u001b[1;33m(\u001b[0m\u001b[0mz\u001b[0m\u001b[1;33m)\u001b[0m\u001b[1;33m\u001b[0m\u001b[1;33m\u001b[0m\u001b[0m\n\u001b[0;32m      5\u001b[0m \u001b[0mabc\u001b[0m\u001b[1;33m(\u001b[0m\u001b[1;33m)\u001b[0m\u001b[1;33m\u001b[0m\u001b[1;33m\u001b[0m\u001b[0m\n\u001b[1;32m----> 6\u001b[1;33m \u001b[0mprint\u001b[0m\u001b[1;33m(\u001b[0m\u001b[0mz\u001b[0m\u001b[1;33m)\u001b[0m \u001b[1;31m# NameError since z is defined inside abc()\u001b[0m\u001b[1;33m\u001b[0m\u001b[1;33m\u001b[0m\u001b[0m\n\u001b[0m",
      "\u001b[1;31mNameError\u001b[0m: name 'z' is not defined"
     ]
    }
   ],
   "source": [
    "# Local Variable\n",
    "def abc():\n",
    "    z=45\n",
    "    print(z)\n",
    "abc()\n",
    "print(z) # NameError since z is defined inside abc()"
   ]
  },
  {
   "cell_type": "code",
   "execution_count": 28,
   "metadata": {},
   "outputs": [
    {
     "data": {
      "text/plain": [
       "['In',\n",
       " 'Out',\n",
       " '_',\n",
       " '_5',\n",
       " '_6',\n",
       " '__',\n",
       " '___',\n",
       " '__builtin__',\n",
       " '__builtins__',\n",
       " '__doc__',\n",
       " '__loader__',\n",
       " '__name__',\n",
       " '__package__',\n",
       " '__spec__',\n",
       " '_dh',\n",
       " '_i',\n",
       " '_i1',\n",
       " '_i10',\n",
       " '_i11',\n",
       " '_i12',\n",
       " '_i13',\n",
       " '_i14',\n",
       " '_i15',\n",
       " '_i16',\n",
       " '_i17',\n",
       " '_i18',\n",
       " '_i19',\n",
       " '_i2',\n",
       " '_i20',\n",
       " '_i21',\n",
       " '_i22',\n",
       " '_i23',\n",
       " '_i24',\n",
       " '_i25',\n",
       " '_i26',\n",
       " '_i27',\n",
       " '_i28',\n",
       " '_i3',\n",
       " '_i4',\n",
       " '_i5',\n",
       " '_i6',\n",
       " '_i7',\n",
       " '_i8',\n",
       " '_i9',\n",
       " '_ih',\n",
       " '_ii',\n",
       " '_iii',\n",
       " '_oh',\n",
       " 'abc',\n",
       " 'b',\n",
       " 'dict',\n",
       " 'exit',\n",
       " 'fib',\n",
       " 'foo',\n",
       " 'get_ipython',\n",
       " 'i',\n",
       " 'j',\n",
       " 'mno',\n",
       " 'quit',\n",
       " 'v',\n",
       " 'x',\n",
       " 'xyz',\n",
       " 'y']"
      ]
     },
     "execution_count": 28,
     "metadata": {},
     "output_type": "execute_result"
    }
   ],
   "source": [
    "dir()"
   ]
  },
  {
   "cell_type": "code",
   "execution_count": 30,
   "metadata": {},
   "outputs": [
    {
     "name": "stdout",
     "output_type": "stream",
     "text": [
      "Initially: ['In', 'Out', '_', '_28', '_5', '_6', '__', '___', '__builtin__', '__builtins__', '__doc__', '__loader__', '__name__', '__package__', '__spec__', '_dh', '_i', '_i1', '_i10', '_i11', '_i12', '_i13', '_i14', '_i15', '_i16', '_i17', '_i18', '_i19', '_i2', '_i20', '_i21', '_i22', '_i23', '_i24', '_i25', '_i26', '_i27', '_i28', '_i29', '_i3', '_i30', '_i4', '_i5', '_i6', '_i7', '_i8', '_i9', '_ih', '_ii', '_iii', '_oh', 'a', 'abc', 'b', 'dict', 'exit', 'fib', 'foo', 'get_ipython', 'i', 'j', 'mno', 'quit', 'v', 'x', 'xyz', 'y'] \n",
      "\n",
      "Inside abc: ['bixby'] \n",
      "\n",
      "Outside abc(): ['In', 'Out', '_', '_28', '_5', '_6', '__', '___', '__builtin__', '__builtins__', '__doc__', '__loader__', '__name__', '__package__', '__spec__', '_dh', '_i', '_i1', '_i10', '_i11', '_i12', '_i13', '_i14', '_i15', '_i16', '_i17', '_i18', '_i19', '_i2', '_i20', '_i21', '_i22', '_i23', '_i24', '_i25', '_i26', '_i27', '_i28', '_i29', '_i3', '_i30', '_i4', '_i5', '_i6', '_i7', '_i8', '_i9', '_ih', '_ii', '_iii', '_oh', 'a', 'abc', 'b', 'dict', 'exit', 'fib', 'foo', 'get_ipython', 'i', 'j', 'mno', 'quit', 'v', 'x', 'xyz', 'y']\n"
     ]
    }
   ],
   "source": [
    "print(\"Initially:\",dir(),\"\\n\")\n",
    "a=1\n",
    "def abc():\n",
    "    bixby=2\n",
    "    print(\"Inside abc:\",dir(),\"\\n\")\n",
    "abc()\n",
    "print(\"Outside abc():\",dir())"
   ]
  },
  {
   "cell_type": "code",
   "execution_count": 31,
   "metadata": {},
   "outputs": [
    {
     "name": "stdout",
     "output_type": "stream",
     "text": [
      "a= 10\n",
      "a= 10\n",
      "b= 20\n",
      "a= 10\n",
      "a= 10\n"
     ]
    }
   ],
   "source": [
    "# Global Variable\n",
    "a=10 # Global\n",
    "print(\"a=\",a) \n",
    "def abc():\n",
    "    b=20 # Local\n",
    "    print(\"b=\",b)\n",
    "    print(\"a=\",a)\n",
    "print(\"a=\",a) \n",
    "abc()\n",
    "print(\"a=\",a) "
   ]
  },
  {
   "cell_type": "code",
   "execution_count": 32,
   "metadata": {},
   "outputs": [
    {
     "name": "stdout",
     "output_type": "stream",
     "text": [
      "a= 10\n",
      "b= 20\n",
      "a= 7\n",
      "a= 10\n"
     ]
    }
   ],
   "source": [
    "# Redefining the variable a inside abc()\n",
    "a=10 # Global\n",
    "def abc():\n",
    "    b=20 # Local\n",
    "    print(\"b=\",b)\n",
    "    a=7\n",
    "    print(\"a=\",a)\n",
    "print(\"a=\",a) \n",
    "abc()\n",
    "print(\"a=\",a) "
   ]
  },
  {
   "cell_type": "code",
   "execution_count": 33,
   "metadata": {},
   "outputs": [
    {
     "name": "stdout",
     "output_type": "stream",
     "text": [
      "a= 10\n",
      "b= 20\n"
     ]
    },
    {
     "ename": "UnboundLocalError",
     "evalue": "local variable 'a' referenced before assignment",
     "output_type": "error",
     "traceback": [
      "\u001b[1;31m---------------------------------------------------------------------------\u001b[0m",
      "\u001b[1;31mUnboundLocalError\u001b[0m                         Traceback (most recent call last)",
      "\u001b[1;32m<ipython-input-33-21b090fea62e>\u001b[0m in \u001b[0;36m<module>\u001b[1;34m\u001b[0m\n\u001b[0;32m      7\u001b[0m     \u001b[0mprint\u001b[0m\u001b[1;33m(\u001b[0m\u001b[1;34m\"a=\"\u001b[0m\u001b[1;33m,\u001b[0m\u001b[0ma\u001b[0m\u001b[1;33m)\u001b[0m\u001b[1;33m\u001b[0m\u001b[1;33m\u001b[0m\u001b[0m\n\u001b[0;32m      8\u001b[0m \u001b[0mprint\u001b[0m\u001b[1;33m(\u001b[0m\u001b[1;34m\"a=\"\u001b[0m\u001b[1;33m,\u001b[0m\u001b[0ma\u001b[0m\u001b[1;33m)\u001b[0m\u001b[1;33m\u001b[0m\u001b[1;33m\u001b[0m\u001b[0m\n\u001b[1;32m----> 9\u001b[1;33m \u001b[0mabc\u001b[0m\u001b[1;33m(\u001b[0m\u001b[1;33m)\u001b[0m\u001b[1;33m\u001b[0m\u001b[1;33m\u001b[0m\u001b[0m\n\u001b[0m\u001b[0;32m     10\u001b[0m \u001b[0mprint\u001b[0m\u001b[1;33m(\u001b[0m\u001b[1;34m\"a=\"\u001b[0m\u001b[1;33m,\u001b[0m\u001b[0ma\u001b[0m\u001b[1;33m)\u001b[0m\u001b[1;33m\u001b[0m\u001b[1;33m\u001b[0m\u001b[0m\n",
      "\u001b[1;32m<ipython-input-33-21b090fea62e>\u001b[0m in \u001b[0;36mabc\u001b[1;34m()\u001b[0m\n\u001b[0;32m      4\u001b[0m     \u001b[0mb\u001b[0m\u001b[1;33m=\u001b[0m\u001b[1;36m20\u001b[0m \u001b[1;31m# Local\u001b[0m\u001b[1;33m\u001b[0m\u001b[1;33m\u001b[0m\u001b[0m\n\u001b[0;32m      5\u001b[0m     \u001b[0mprint\u001b[0m\u001b[1;33m(\u001b[0m\u001b[1;34m\"b=\"\u001b[0m\u001b[1;33m,\u001b[0m\u001b[0mb\u001b[0m\u001b[1;33m)\u001b[0m\u001b[1;33m\u001b[0m\u001b[1;33m\u001b[0m\u001b[0m\n\u001b[1;32m----> 6\u001b[1;33m     \u001b[0ma\u001b[0m\u001b[1;33m=\u001b[0m \u001b[0ma\u001b[0m\u001b[1;33m+\u001b[0m\u001b[1;36m1\u001b[0m\u001b[1;33m\u001b[0m\u001b[1;33m\u001b[0m\u001b[0m\n\u001b[0m\u001b[0;32m      7\u001b[0m     \u001b[0mprint\u001b[0m\u001b[1;33m(\u001b[0m\u001b[1;34m\"a=\"\u001b[0m\u001b[1;33m,\u001b[0m\u001b[0ma\u001b[0m\u001b[1;33m)\u001b[0m\u001b[1;33m\u001b[0m\u001b[1;33m\u001b[0m\u001b[0m\n\u001b[0;32m      8\u001b[0m \u001b[0mprint\u001b[0m\u001b[1;33m(\u001b[0m\u001b[1;34m\"a=\"\u001b[0m\u001b[1;33m,\u001b[0m\u001b[0ma\u001b[0m\u001b[1;33m)\u001b[0m\u001b[1;33m\u001b[0m\u001b[1;33m\u001b[0m\u001b[0m\n",
      "\u001b[1;31mUnboundLocalError\u001b[0m: local variable 'a' referenced before assignment"
     ]
    }
   ],
   "source": [
    "# Modifying the global variable in the local scope\n",
    "a=10 # Global\n",
    "def abc():\n",
    "    b=20 # Local\n",
    "    print(\"b=\",b)\n",
    "    a= a+1\n",
    "    print(\"a=\",a)\n",
    "print(\"a=\",a) \n",
    "abc()\n",
    "print(\"a=\",a) "
   ]
  },
  {
   "cell_type": "code",
   "execution_count": 34,
   "metadata": {},
   "outputs": [
    {
     "name": "stdout",
     "output_type": "stream",
     "text": [
      "a= 10\n",
      "b= 20\n",
      "a= 11\n",
      "a= 11\n"
     ]
    }
   ],
   "source": [
    "# Solution for above cell\n",
    "a=10 # Global\n",
    "def abc():\n",
    "    b=20 # Local\n",
    "    print(\"b=\",b)\n",
    "    global a\n",
    "    a= a+1\n",
    "    print(\"a=\",a)\n",
    "print(\"a=\",a) \n",
    "abc()\n",
    "print(\"a=\",a) "
   ]
  },
  {
   "cell_type": "markdown",
   "metadata": {},
   "source": [
    "__Nested Function__"
   ]
  },
  {
   "cell_type": "code",
   "execution_count": 35,
   "metadata": {},
   "outputs": [
    {
     "name": "stdout",
     "output_type": "stream",
     "text": [
      "x= 4\n",
      "Inside function,y= 10\n",
      "z= 4\n",
      "EOP\n"
     ]
    }
   ],
   "source": [
    "y=10 # global\n",
    "def outer(): # enclosing function\n",
    "    z=4 # z is local to outer(), but non-local to inner(), \n",
    "        # therefore called enclosing variable\n",
    "    def inner():\n",
    "        x=4 # local\n",
    "        print(\"x=\",x)\n",
    "        print(\"Inside function,y=\",y)\n",
    "    inner()\n",
    "    print(\"z=\",z)\n",
    "outer()\n",
    "print(\"EOP\")"
   ]
  },
  {
   "cell_type": "code",
   "execution_count": 36,
   "metadata": {},
   "outputs": [
    {
     "name": "stdout",
     "output_type": "stream",
     "text": [
      "x= 4\n",
      "Inside function,z= 12\n",
      "z= 12\n"
     ]
    }
   ],
   "source": [
    "y=10 # global\n",
    "def outer(): # enclosing function\n",
    "    z=12 # z is local to outer(), but non-local to inner(), \n",
    "        # therefore called enclosing variable\n",
    "    def inner():\n",
    "        x=4 # local\n",
    "        print(\"x=\",x)\n",
    "        print(\"Inside function,z=\",z) # it can be printed from inside inner()\n",
    "    inner()\n",
    "    print(\"z=\",z)\n",
    "outer()"
   ]
  },
  {
   "cell_type": "code",
   "execution_count": 37,
   "metadata": {},
   "outputs": [
    {
     "name": "stdout",
     "output_type": "stream",
     "text": [
      "x= 4\n"
     ]
    },
    {
     "ename": "UnboundLocalError",
     "evalue": "local variable 'z' referenced before assignment",
     "output_type": "error",
     "traceback": [
      "\u001b[1;31m---------------------------------------------------------------------------\u001b[0m",
      "\u001b[1;31mUnboundLocalError\u001b[0m                         Traceback (most recent call last)",
      "\u001b[1;32m<ipython-input-37-28aa231a5b3d>\u001b[0m in \u001b[0;36m<module>\u001b[1;34m\u001b[0m\n\u001b[0;32m     11\u001b[0m     \u001b[0minner\u001b[0m\u001b[1;33m(\u001b[0m\u001b[1;33m)\u001b[0m\u001b[1;33m\u001b[0m\u001b[1;33m\u001b[0m\u001b[0m\n\u001b[0;32m     12\u001b[0m     \u001b[0mprint\u001b[0m\u001b[1;33m(\u001b[0m\u001b[1;34m\"z=\"\u001b[0m\u001b[1;33m,\u001b[0m\u001b[0mz\u001b[0m\u001b[1;33m)\u001b[0m\u001b[1;33m\u001b[0m\u001b[1;33m\u001b[0m\u001b[0m\n\u001b[1;32m---> 13\u001b[1;33m \u001b[0mouter\u001b[0m\u001b[1;33m(\u001b[0m\u001b[1;33m)\u001b[0m\u001b[1;33m\u001b[0m\u001b[1;33m\u001b[0m\u001b[0m\n\u001b[0m",
      "\u001b[1;32m<ipython-input-37-28aa231a5b3d>\u001b[0m in \u001b[0;36mouter\u001b[1;34m()\u001b[0m\n\u001b[0;32m      9\u001b[0m         \u001b[0mz\u001b[0m \u001b[1;33m=\u001b[0m \u001b[0mz\u001b[0m\u001b[1;33m+\u001b[0m\u001b[1;36m1\u001b[0m\u001b[1;33m\u001b[0m\u001b[1;33m\u001b[0m\u001b[0m\n\u001b[0;32m     10\u001b[0m         \u001b[0mprint\u001b[0m\u001b[1;33m(\u001b[0m\u001b[1;34m\"Inside function,z=\"\u001b[0m\u001b[1;33m,\u001b[0m\u001b[0mz\u001b[0m\u001b[1;33m)\u001b[0m \u001b[1;31m# it can be printed from inside inner()\u001b[0m\u001b[1;33m\u001b[0m\u001b[1;33m\u001b[0m\u001b[0m\n\u001b[1;32m---> 11\u001b[1;33m     \u001b[0minner\u001b[0m\u001b[1;33m(\u001b[0m\u001b[1;33m)\u001b[0m\u001b[1;33m\u001b[0m\u001b[1;33m\u001b[0m\u001b[0m\n\u001b[0m\u001b[0;32m     12\u001b[0m     \u001b[0mprint\u001b[0m\u001b[1;33m(\u001b[0m\u001b[1;34m\"z=\"\u001b[0m\u001b[1;33m,\u001b[0m\u001b[0mz\u001b[0m\u001b[1;33m)\u001b[0m\u001b[1;33m\u001b[0m\u001b[1;33m\u001b[0m\u001b[0m\n\u001b[0;32m     13\u001b[0m \u001b[0mouter\u001b[0m\u001b[1;33m(\u001b[0m\u001b[1;33m)\u001b[0m\u001b[1;33m\u001b[0m\u001b[1;33m\u001b[0m\u001b[0m\n",
      "\u001b[1;32m<ipython-input-37-28aa231a5b3d>\u001b[0m in \u001b[0;36minner\u001b[1;34m()\u001b[0m\n\u001b[0;32m      7\u001b[0m         \u001b[0mx\u001b[0m\u001b[1;33m=\u001b[0m\u001b[1;36m4\u001b[0m \u001b[1;31m# local\u001b[0m\u001b[1;33m\u001b[0m\u001b[1;33m\u001b[0m\u001b[0m\n\u001b[0;32m      8\u001b[0m         \u001b[0mprint\u001b[0m\u001b[1;33m(\u001b[0m\u001b[1;34m\"x=\"\u001b[0m\u001b[1;33m,\u001b[0m\u001b[0mx\u001b[0m\u001b[1;33m)\u001b[0m\u001b[1;33m\u001b[0m\u001b[1;33m\u001b[0m\u001b[0m\n\u001b[1;32m----> 9\u001b[1;33m         \u001b[0mz\u001b[0m \u001b[1;33m=\u001b[0m \u001b[0mz\u001b[0m\u001b[1;33m+\u001b[0m\u001b[1;36m1\u001b[0m\u001b[1;33m\u001b[0m\u001b[1;33m\u001b[0m\u001b[0m\n\u001b[0m\u001b[0;32m     10\u001b[0m         \u001b[0mprint\u001b[0m\u001b[1;33m(\u001b[0m\u001b[1;34m\"Inside function,z=\"\u001b[0m\u001b[1;33m,\u001b[0m\u001b[0mz\u001b[0m\u001b[1;33m)\u001b[0m \u001b[1;31m# it can be printed from inside inner()\u001b[0m\u001b[1;33m\u001b[0m\u001b[1;33m\u001b[0m\u001b[0m\n\u001b[0;32m     11\u001b[0m     \u001b[0minner\u001b[0m\u001b[1;33m(\u001b[0m\u001b[1;33m)\u001b[0m\u001b[1;33m\u001b[0m\u001b[1;33m\u001b[0m\u001b[0m\n",
      "\u001b[1;31mUnboundLocalError\u001b[0m: local variable 'z' referenced before assignment"
     ]
    }
   ],
   "source": [
    "# Modifying enclosed variable 'z' inside inner() -->gives error\n",
    "y=10 # global\n",
    "def outer(): # enclosing function\n",
    "    z=12 # z is local to outer(), but non-local to inner(), \n",
    "        # therefore called enclosing variable\n",
    "    def inner():\n",
    "        x=4 # local\n",
    "        print(\"x=\",x)\n",
    "        z = z+1\n",
    "        print(\"Inside function,z=\",z) # it can be printed from inside inner()\n",
    "    inner()\n",
    "    print(\"z=\",z)\n",
    "outer()"
   ]
  },
  {
   "cell_type": "code",
   "execution_count": 39,
   "metadata": {},
   "outputs": [
    {
     "name": "stdout",
     "output_type": "stream",
     "text": [
      "z= 12\n",
      "x= 4\n",
      "Inside function,z= 13\n",
      "z= 13\n"
     ]
    }
   ],
   "source": [
    "# Above cell cal be executed follows:\n",
    "# Modifying enclosed variable 'z' inside inner() -->gives error\n",
    "y=10 # global\n",
    "def outer(): # enclosing function\n",
    "    z=12 # z is local to outer(), but non-local to inner(), \n",
    "        # therefore called enclosing variable\n",
    "    print(\"z=\",z)\n",
    "    def inner():\n",
    "        x=4 # local\n",
    "        print(\"x=\",x)\n",
    "        nonlocal z\n",
    "        z = z+1\n",
    "        print(\"Inside function,z=\",z) # it can be printed from inside inner()\n",
    "    inner()\n",
    "    print(\"z=\",z)\n",
    "outer()"
   ]
  },
  {
   "cell_type": "code",
   "execution_count": 40,
   "metadata": {},
   "outputs": [
    {
     "name": "stdout",
     "output_type": "stream",
     "text": [
      "Hello Dr. Darshan\n"
     ]
    }
   ],
   "source": [
    "# Built-in\n",
    "print(\"Hello Dr. Darshan\")"
   ]
  },
  {
   "cell_type": "markdown",
   "metadata": {},
   "source": [
    "__Lets try tricky examples now.__"
   ]
  },
  {
   "cell_type": "code",
   "execution_count": 41,
   "metadata": {},
   "outputs": [
    {
     "name": "stdout",
     "output_type": "stream",
     "text": [
      "x= 15\n",
      "x= 10\n",
      "x= 5\n"
     ]
    }
   ],
   "source": [
    "x=5\n",
    "def abc():\n",
    "    x=10\n",
    "    def inner():\n",
    "        x=15\n",
    "        print(\"x=\",x) # prints local x\n",
    "    inner()\n",
    "    print(\"x=\",x)\n",
    "abc()\n",
    "print(\"x=\",x)"
   ]
  },
  {
   "cell_type": "code",
   "execution_count": 45,
   "metadata": {},
   "outputs": [
    {
     "name": "stdout",
     "output_type": "stream",
     "text": [
      "x= 10\n"
     ]
    }
   ],
   "source": [
    "x=5\n",
    "def abc():\n",
    "    x=10 # prints enclosed x\n",
    "    def inner():\n",
    "#         x=15\n",
    "        print(\"x=\",x) \n",
    "    inner()\n",
    "abc()"
   ]
  },
  {
   "cell_type": "code",
   "execution_count": 46,
   "metadata": {},
   "outputs": [
    {
     "name": "stdout",
     "output_type": "stream",
     "text": [
      "x= 5\n"
     ]
    }
   ],
   "source": [
    "x=5 # prints global x\n",
    "def abc():\n",
    "#     x=10 \n",
    "    def inner():\n",
    "#         x=15\n",
    "        print(\"x=\",x) \n",
    "    inner()\n",
    "abc()"
   ]
  },
  {
   "cell_type": "markdown",
   "metadata": {},
   "source": [
    "### Nested Function"
   ]
  },
  {
   "cell_type": "code",
   "execution_count": 47,
   "metadata": {},
   "outputs": [
    {
     "name": "stdout",
     "output_type": "stream",
     "text": [
      "3\n"
     ]
    }
   ],
   "source": [
    "def outer():\n",
    "    x=3\n",
    "    def inner():\n",
    "        print(x)\n",
    "    inner()\n",
    "outer()"
   ]
  },
  {
   "cell_type": "code",
   "execution_count": 48,
   "metadata": {},
   "outputs": [
    {
     "ename": "NameError",
     "evalue": "name 'inner' is not defined",
     "output_type": "error",
     "traceback": [
      "\u001b[1;31m---------------------------------------------------------------------------\u001b[0m",
      "\u001b[1;31mNameError\u001b[0m                                 Traceback (most recent call last)",
      "\u001b[1;32m<ipython-input-48-7f4ce938d9f9>\u001b[0m in \u001b[0;36m<module>\u001b[1;34m\u001b[0m\n\u001b[0;32m      8\u001b[0m     \u001b[0minner\u001b[0m\u001b[1;33m(\u001b[0m\u001b[1;33m)\u001b[0m\u001b[1;33m\u001b[0m\u001b[1;33m\u001b[0m\u001b[0m\n\u001b[0;32m      9\u001b[0m \u001b[1;33m\u001b[0m\u001b[0m\n\u001b[1;32m---> 10\u001b[1;33m \u001b[0minner\u001b[0m\u001b[1;33m(\u001b[0m\u001b[1;33m)\u001b[0m\u001b[1;33m\u001b[0m\u001b[1;33m\u001b[0m\u001b[0m\n\u001b[0m\u001b[0;32m     11\u001b[0m \u001b[0mouter\u001b[0m\u001b[1;33m(\u001b[0m\u001b[1;33m)\u001b[0m\u001b[1;33m\u001b[0m\u001b[1;33m\u001b[0m\u001b[0m\n",
      "\u001b[1;31mNameError\u001b[0m: name 'inner' is not defined"
     ]
    }
   ],
   "source": [
    "# If you try calling inner(), you will get an error\n",
    "# This is because inner() is local function to outer(),\n",
    "# Therefore, you cant call this outside the function body\n",
    "def outer():\n",
    "    x=3\n",
    "    def inner():\n",
    "        print(x)\n",
    "    inner()\n",
    "\n",
    "inner()\n",
    "outer()"
   ]
  },
  {
   "cell_type": "markdown",
   "metadata": {},
   "source": [
    "### Functions are First class Objects."
   ]
  },
  {
   "cell_type": "code",
   "execution_count": 49,
   "metadata": {},
   "outputs": [
    {
     "name": "stdout",
     "output_type": "stream",
     "text": [
      "Hello\n"
     ]
    }
   ],
   "source": [
    "def abc():\n",
    "    print(\"Hello\")\n",
    "abc()"
   ]
  },
  {
   "cell_type": "code",
   "execution_count": 57,
   "metadata": {},
   "outputs": [
    {
     "data": {
      "text/plain": [
       "<function __main__.abc()>"
      ]
     },
     "execution_count": 57,
     "metadata": {},
     "output_type": "execute_result"
    }
   ],
   "source": [
    "def abc():\n",
    "    print(\"Hello\")\n",
    "abc"
   ]
  },
  {
   "cell_type": "raw",
   "metadata": {},
   "source": [
    "It gives the address at which memory is allocated for this function.\n",
    "\n",
    "The output is basically a function object reference.\n",
    "\n",
    "And in Python, we can assign this reference to any variable.\n",
    "Let's see how:"
   ]
  },
  {
   "cell_type": "code",
   "execution_count": 58,
   "metadata": {},
   "outputs": [],
   "source": [
    "g = abc"
   ]
  },
  {
   "cell_type": "code",
   "execution_count": 59,
   "metadata": {},
   "outputs": [
    {
     "data": {
      "text/plain": [
       "<function __main__.abc()>"
      ]
     },
     "execution_count": 59,
     "metadata": {},
     "output_type": "execute_result"
    }
   ],
   "source": [
    "g"
   ]
  },
  {
   "cell_type": "code",
   "execution_count": 60,
   "metadata": {},
   "outputs": [
    {
     "name": "stdout",
     "output_type": "stream",
     "text": [
      "Hello\n"
     ]
    }
   ],
   "source": [
    "g()"
   ]
  },
  {
   "cell_type": "code",
   "execution_count": 56,
   "metadata": {},
   "outputs": [
    {
     "name": "stdout",
     "output_type": "stream",
     "text": [
      "7\n"
     ]
    }
   ],
   "source": [
    "# Value returning function\n",
    "def outer():\n",
    "    x=3\n",
    "    def inner():\n",
    "        y=4\n",
    "        result = x+y\n",
    "        return result\n",
    "    return inner()\n",
    "\n",
    "a = outer()\n",
    "print(a)"
   ]
  },
  {
   "cell_type": "code",
   "execution_count": 61,
   "metadata": {},
   "outputs": [
    {
     "name": "stdout",
     "output_type": "stream",
     "text": [
      "<function outer.<locals>.inner at 0x06C076A8>\n"
     ]
    }
   ],
   "source": [
    "# Value returning function\n",
    "def outer():\n",
    "    x=3\n",
    "    def inner():\n",
    "        y=4\n",
    "        result = x+y\n",
    "        return result\n",
    "    return inner # Note this change\n",
    "\n",
    "a = outer()\n",
    "print(a)"
   ]
  },
  {
   "cell_type": "code",
   "execution_count": 62,
   "metadata": {},
   "outputs": [
    {
     "data": {
      "text/plain": [
       "'inner'"
      ]
     },
     "execution_count": 62,
     "metadata": {},
     "output_type": "execute_result"
    }
   ],
   "source": [
    "# Let us check which function is exactly 'a' pointing to.\n",
    "a.__name__"
   ]
  },
  {
   "cell_type": "code",
   "execution_count": 63,
   "metadata": {},
   "outputs": [],
   "source": [
    "darshan = a"
   ]
  },
  {
   "cell_type": "code",
   "execution_count": 64,
   "metadata": {},
   "outputs": [
    {
     "data": {
      "text/plain": [
       "<function __main__.outer.<locals>.inner()>"
      ]
     },
     "execution_count": 64,
     "metadata": {},
     "output_type": "execute_result"
    }
   ],
   "source": [
    "darshan"
   ]
  },
  {
   "cell_type": "code",
   "execution_count": 65,
   "metadata": {},
   "outputs": [
    {
     "data": {
      "text/plain": [
       "'inner'"
      ]
     },
     "execution_count": 65,
     "metadata": {},
     "output_type": "execute_result"
    }
   ],
   "source": [
    "darshan.__name__"
   ]
  },
  {
   "cell_type": "code",
   "execution_count": 66,
   "metadata": {
    "scrolled": true
   },
   "outputs": [
    {
     "data": {
      "text/plain": [
       "7"
      ]
     },
     "execution_count": 66,
     "metadata": {},
     "output_type": "execute_result"
    }
   ],
   "source": [
    "darshan()"
   ]
  },
  {
   "cell_type": "code",
   "execution_count": 67,
   "metadata": {},
   "outputs": [
    {
     "data": {
      "text/plain": [
       "7"
      ]
     },
     "execution_count": 67,
     "metadata": {},
     "output_type": "execute_result"
    }
   ],
   "source": [
    "a()"
   ]
  },
  {
   "cell_type": "raw",
   "metadata": {},
   "source": [
    "So we see that we have returned an inner() reference and 'a' is same as inner()."
   ]
  },
  {
   "cell_type": "markdown",
   "metadata": {},
   "source": [
    "### Closure\n",
    "\n",
    "Technically, a Closure is defined as a function object that remebers values in enclosing scope even if they are not present in the memory."
   ]
  },
  {
   "cell_type": "code",
   "execution_count": 68,
   "metadata": {},
   "outputs": [
    {
     "name": "stdout",
     "output_type": "stream",
     "text": [
      "7\n"
     ]
    }
   ],
   "source": [
    "# Value returning function\n",
    "def outer():\n",
    "    x=3\n",
    "    def inner():\n",
    "        y=4\n",
    "        result = x+y\n",
    "        return result\n",
    "    return inner # Note this change\n",
    "\n",
    "a = outer()\n",
    "print(a()) # Note this change"
   ]
  },
  {
   "cell_type": "markdown",
   "metadata": {},
   "source": [
    "So we were successful to execute the inner function body outside the scope.\n",
    "\n",
    "__This technique is called as Closure.__\n",
    "\n",
    "a() and inner() are the same fuction and we are executing them outisde the scope."
   ]
  },
  {
   "cell_type": "code",
   "execution_count": 69,
   "metadata": {},
   "outputs": [
    {
     "name": "stdout",
     "output_type": "stream",
     "text": [
      "hello\n",
      "None\n"
     ]
    }
   ],
   "source": [
    "# Another example\n",
    "def outer():\n",
    "    msg=\"hello\"\n",
    "    def inner():\n",
    "        print(msg)\n",
    "    return inner\n",
    "a = outer()\n",
    "print(a())"
   ]
  },
  {
   "cell_type": "markdown",
   "metadata": {},
   "source": [
    "__Advantages of Closure:__\n",
    "\n",
    ">1. It can avoid global variables.\n",
    "\n",
    ">2. It suports Data Hiding.\n",
    "\n",
    ">3. It lets us implement Decorators."
   ]
  },
  {
   "cell_type": "markdown",
   "metadata": {},
   "source": [
    "### Function as Parameters"
   ]
  },
  {
   "cell_type": "code",
   "execution_count": 70,
   "metadata": {},
   "outputs": [
    {
     "name": "stdout",
     "output_type": "stream",
     "text": [
      "Function 2\n",
      "Function 1\n"
     ]
    }
   ],
   "source": [
    "# Example 1\n",
    "def function1():\n",
    "    print(\"Function 1\")\n",
    "\n",
    "def function2(func):\n",
    "    print(\"Function 2\")\n",
    "    func()\n",
    "\n",
    "function2(function1)"
   ]
  },
  {
   "cell_type": "markdown",
   "metadata": {},
   "source": [
    "### Decorators\n",
    "\n",
    "Decorators takes as input a function, Adds some functionality to it, And then return it.\n",
    "\n",
    "Technically, a Decorator in Python is any callable object that is used to modify a function or a class."
   ]
  },
  {
   "cell_type": "code",
   "execution_count": 71,
   "metadata": {},
   "outputs": [
    {
     "data": {
      "text/plain": [
       "'learning decorators'"
      ]
     },
     "execution_count": 71,
     "metadata": {},
     "output_type": "execute_result"
    }
   ],
   "source": [
    "# Basic function without decorators\n",
    "def abc_lower():\n",
    "    return \"learning decorators\"\n",
    "abc_lower()"
   ]
  },
  {
   "cell_type": "raw",
   "metadata": {},
   "source": [
    "Lets think of decorating the above function now."
   ]
  },
  {
   "cell_type": "code",
   "execution_count": 72,
   "metadata": {},
   "outputs": [
    {
     "name": "stdout",
     "output_type": "stream",
     "text": [
      "learning decorators\n",
      "LEARNING DECORATORS\n"
     ]
    }
   ],
   "source": [
    "def abc_upper(func):\n",
    "    def inner():\n",
    "        str1 = func()\n",
    "        return str1.upper()\n",
    "    return inner\n",
    "\n",
    "def abc_lower():\n",
    "    return \"learning decorators\"\n",
    "print(abc_lower())\n",
    "\n",
    "d= abc_upper(abc_lower)\n",
    "print(d())"
   ]
  },
  {
   "cell_type": "markdown",
   "metadata": {},
   "source": [
    "__But this is not the way to use Decorators in Python.__\n",
    "\n",
    "Lets understand the correct way now."
   ]
  },
  {
   "cell_type": "code",
   "execution_count": 73,
   "metadata": {},
   "outputs": [
    {
     "name": "stdout",
     "output_type": "stream",
     "text": [
      "LEARNING DECORATORS\n"
     ]
    }
   ],
   "source": [
    "def abc_upper(func):\n",
    "    def inner():\n",
    "        str1 = func()\n",
    "        return str1.upper()\n",
    "    return inner\n",
    "\n",
    "@abc_upper # we are writing this here cz we want to decorate this function\n",
    "def abc_lower():\n",
    "    return \"learning decorators\"\n",
    "\n",
    "print(abc_lower())"
   ]
  },
  {
   "cell_type": "code",
   "execution_count": null,
   "metadata": {},
   "outputs": [],
   "source": [
    "# Above cell can also be written as below:\n",
    "def abc_upper(func):\n",
    "    def inner():\n",
    "        str1 = func()\n",
    "        return str1.upper()\n",
    "    return inner() # Note the change here\n",
    "\n",
    "@abc_upper # we are writing this here cz we want to decorate this function\n",
    "def abc_lower():\n",
    "    return \"learning decorators\"\n",
    "\n",
    "print(abc_lower) # Note the change here"
   ]
  },
  {
   "cell_type": "markdown",
   "metadata": {},
   "source": [
    "__If you observe the above function, it did not contain any parameters.__\n",
    "\n",
    "__If it contains parameters, let us see the way to decorate them.__"
   ]
  },
  {
   "cell_type": "code",
   "execution_count": null,
   "metadata": {},
   "outputs": [],
   "source": [
    "def div(a,b):\n",
    "    return a/b\n",
    "div(4,2)"
   ]
  },
  {
   "cell_type": "code",
   "execution_count": null,
   "metadata": {},
   "outputs": [],
   "source": [
    "div(4,0)"
   ]
  },
  {
   "cell_type": "markdown",
   "metadata": {},
   "source": [
    "__Lets try to handle the above error using decorators.__"
   ]
  },
  {
   "cell_type": "code",
   "execution_count": null,
   "metadata": {},
   "outputs": [],
   "source": [
    "def div_decorator(func):\n",
    "    def inner(x,y):\n",
    "        if y==0:\n",
    "            return \"Something is wrong. Try again with proper input.\"\n",
    "        else:\n",
    "            return func(x,y)\n",
    "    return inner\n",
    "\n",
    "@div_decorator\n",
    "def div(a,b):\n",
    "    return a/b\n",
    "print(div(4,2))\n",
    "print(div(4,0))"
   ]
  }
 ],
 "metadata": {
  "kernelspec": {
   "display_name": "Python 3",
   "language": "python",
   "name": "python3"
  },
  "language_info": {
   "codemirror_mode": {
    "name": "ipython",
    "version": 3
   },
   "file_extension": ".py",
   "mimetype": "text/x-python",
   "name": "python",
   "nbconvert_exporter": "python",
   "pygments_lexer": "ipython3",
   "version": "3.7.4"
  },
  "toc": {
   "base_numbering": 1,
   "nav_menu": {},
   "number_sections": true,
   "sideBar": true,
   "skip_h1_title": false,
   "title_cell": "Table of Contents",
   "title_sidebar": "Contents",
   "toc_cell": false,
   "toc_position": {},
   "toc_section_display": true,
   "toc_window_display": false
  }
 },
 "nbformat": 4,
 "nbformat_minor": 2
}
